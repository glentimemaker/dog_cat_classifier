{
 "cells": [
  {
   "cell_type": "code",
   "execution_count": 7,
   "metadata": {},
   "outputs": [],
   "source": [
    "import tensorflow as tf\n",
    "import numpy as np\n",
    "from tensorflow.keras import layers\n",
    "from tensorflow.keras.models import Sequential"
   ]
  },
  {
   "cell_type": "code",
   "execution_count": 2,
   "metadata": {},
   "outputs": [],
   "source": [
    "import pickle"
   ]
  },
  {
   "cell_type": "code",
   "execution_count": 3,
   "metadata": {},
   "outputs": [],
   "source": [
    "X = pickle.load(open(\"X.pickle\", \"rb\"))\n",
    "y = pickle.load(open(\"y.pickle\", \"rb\"))"
   ]
  },
  {
   "cell_type": "code",
   "execution_count": 6,
   "metadata": {},
   "outputs": [],
   "source": [
    "X = X/255.0 # Normalize"
   ]
  },
  {
   "cell_type": "code",
   "execution_count": 17,
   "metadata": {},
   "outputs": [],
   "source": [
    "model = Sequential([\n",
    "    layers.Conv2D(128, (3,3), activation = \"relu\", input_shape = X.shape[1:]),\n",
    "    #layers.Flatten(),\n",
    "    layers.MaxPooling2D(pool_size=(2,2)),\n",
    "    layers.Conv2D(128, (3,3), activation = \"relu\", input_shape = X.shape[1:]),\n",
    "    layers.MaxPooling2D(pool_size=(2,2)),\n",
    "    layers.Flatten(),\n",
    "    layers.Dense(128, activation=\"relu\"),\n",
    "    layers.Dense(1, activation=\"sigmoid\")\n",
    "])"
   ]
  },
  {
   "cell_type": "code",
   "execution_count": 18,
   "metadata": {},
   "outputs": [],
   "source": [
    "model.compile(\n",
    "    optimizer = tf.train.AdamOptimizer(0.001),\n",
    "    loss = \"binary_crossentropy\",\n",
    "    metrics = ['accuracy']\n",
    ")"
   ]
  },
  {
   "cell_type": "code",
   "execution_count": null,
   "metadata": {},
   "outputs": [
    {
     "name": "stdout",
     "output_type": "stream",
     "text": [
      "Train on 16713 samples, validate on 8233 samples\n",
      "Epoch 1/10\n",
      " 4768/16713 [=======>......................] - ETA: 13:36 - loss: 0.7006 - acc: 0.5577"
     ]
    }
   ],
   "source": [
    "model_path=\"weights-improvement-{epoch:02d}-{val_acc:.2f}.hdf5\"\n",
    "checkpoint = tf.keras.callbacks.ModelCheckpoint(model_path, monitor='val_acc', verbose=1, save_best_only=True, mode='max')\n",
    "callbacks_list = [checkpoint]\n",
    "# Fit the model\n",
    "model.fit(X, y, validation_split=0.33, epochs=10, batch_size=32, callbacks=callbacks_list)"
   ]
  },
  {
   "cell_type": "code",
   "execution_count": 15,
   "metadata": {},
   "outputs": [
    {
     "name": "stdout",
     "output_type": "stream",
     "text": [
      "Train on 22451 samples, validate on 2495 samples\n",
      "Epoch 1/10\n",
      "22451/22451 [==============================] - 677s 30ms/sample - loss: 0.3937 - acc: 0.8210 - val_loss: 0.5368 - val_acc: 0.7531\n",
      "Epoch 2/10\n",
      "22451/22451 [==============================] - 672s 30ms/sample - loss: 0.3325 - acc: 0.8539 - val_loss: 0.4869 - val_acc: 0.7772\n",
      "Epoch 3/10\n",
      "22451/22451 [==============================] - 662s 29ms/sample - loss: 0.2662 - acc: 0.8862 - val_loss: 0.5098 - val_acc: 0.7840\n",
      "Epoch 4/10\n",
      "22451/22451 [==============================] - 665s 30ms/sample - loss: 0.1875 - acc: 0.9249 - val_loss: 0.6087 - val_acc: 0.7796\n",
      "Epoch 5/10\n",
      "22451/22451 [==============================] - 627s 28ms/sample - loss: 0.1232 - acc: 0.9548 - val_loss: 0.7183 - val_acc: 0.7848\n",
      "Epoch 6/10\n",
      "22451/22451 [==============================] - 604s 27ms/sample - loss: 0.0714 - acc: 0.9762 - val_loss: 0.8432 - val_acc: 0.7780\n",
      "Epoch 7/10\n",
      "22451/22451 [==============================] - 611s 27ms/sample - loss: 0.0469 - acc: 0.9863 - val_loss: 0.9708 - val_acc: 0.7780\n",
      "Epoch 8/10\n",
      "22451/22451 [==============================] - 610s 27ms/sample - loss: 0.0346 - acc: 0.9898 - val_loss: 1.1037 - val_acc: 0.7731\n",
      "Epoch 9/10\n",
      "22451/22451 [==============================] - 604s 27ms/sample - loss: 0.0282 - acc: 0.9918 - val_loss: 1.2051 - val_acc: 0.7679\n",
      "Epoch 10/10\n",
      "22451/22451 [==============================] - 581s 26ms/sample - loss: 0.0188 - acc: 0.9948 - val_loss: 1.2937 - val_acc: 0.7731\n"
     ]
    },
    {
     "data": {
      "text/plain": [
       "<tensorflow.python.keras.callbacks.History at 0xbb7153c18>"
      ]
     },
     "execution_count": 15,
     "metadata": {},
     "output_type": "execute_result"
    }
   ],
   "source": [
    "#model.fit(X, y, batch_size=32, epochs=10, validation_split=0.1)"
   ]
  },
  {
   "cell_type": "code",
   "execution_count": 16,
   "metadata": {},
   "outputs": [
    {
     "name": "stdout",
     "output_type": "stream",
     "text": [
      "WARNING:tensorflow:TensorFlow optimizers do not make it possible to access optimizer attributes or optimizer state after instantiation. As a result, we cannot save the optimizer as part of the model save file.You will have to compile your model again after loading it. Prefer using a Keras optimizer instead (see keras.io/optimizers).\n"
     ]
    }
   ],
   "source": [
    "model.save(\"dog_cat_model.h5\")"
   ]
  },
  {
   "cell_type": "code",
   "execution_count": null,
   "metadata": {},
   "outputs": [],
   "source": []
  }
 ],
 "metadata": {
  "kernelspec": {
   "display_name": "Python 3",
   "language": "python",
   "name": "python3"
  },
  "language_info": {
   "codemirror_mode": {
    "name": "ipython",
    "version": 3
   },
   "file_extension": ".py",
   "mimetype": "text/x-python",
   "name": "python",
   "nbconvert_exporter": "python",
   "pygments_lexer": "ipython3",
   "version": "3.7.1"
  }
 },
 "nbformat": 4,
 "nbformat_minor": 2
}
